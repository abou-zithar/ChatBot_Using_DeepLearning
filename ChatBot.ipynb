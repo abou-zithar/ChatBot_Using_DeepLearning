{
  "nbformat": 4,
  "nbformat_minor": 0,
  "metadata": {
    "colab": {
      "provenance": [],
      "collapsed_sections": [],
      "authorship_tag": "ABX9TyNHKMoOLxqz+wI0Nq6+VIPe",
      "include_colab_link": true
    },
    "kernelspec": {
      "name": "python3",
      "display_name": "Python 3"
    },
    "language_info": {
      "name": "python"
    }
  },
  "cells": [
    {
      "cell_type": "markdown",
      "metadata": {
        "id": "view-in-github",
        "colab_type": "text"
      },
      "source": [
        "<a href=\"https://colab.research.google.com/github/abou-zithar/ChatBot_Using_Deeplearning/blob/main/ChatBot.ipynb\" target=\"_parent\"><img src=\"https://colab.research.google.com/assets/colab-badge.svg\" alt=\"Open In Colab\"/></a>"
      ]
    },
    {
      "cell_type": "code",
      "execution_count": 28,
      "metadata": {
        "id": "8m1-6BmRwmRE"
      },
      "outputs": [],
      "source": [
        "from copyreg import pickle\n",
        "import random\n",
        "import json\n",
        "import pickle\n",
        "import numpy as np \n",
        "import nltk\n",
        "\n",
        "'''\n",
        "# reduce all words to the stem \n",
        "work working worked =>work\n",
        "'''\n",
        "from nltk.stem import WordNetLemmatizer\n",
        "from tensorflow.keras.models import Sequential\n",
        "from tensorflow.keras.layers import Dense,Activation, Dropout\n",
        "from tensorflow.keras.optimizers import SGD"
      ]
    },
    {
      "cell_type": "code",
      "source": [
        "nltk.download('wordnet')\n",
        "nltk.download('omw-1.4')\n",
        "nltk.download('punkt')"
      ],
      "metadata": {
        "colab": {
          "base_uri": "https://localhost:8080/"
        },
        "id": "pZBAGMto0zqN",
        "outputId": "aeb93614-3401-4f4f-837c-87634458b2bd"
      },
      "execution_count": 29,
      "outputs": [
        {
          "output_type": "stream",
          "name": "stderr",
          "text": [
            "[nltk_data] Downloading package wordnet to /root/nltk_data...\n",
            "[nltk_data]   Package wordnet is already up-to-date!\n",
            "[nltk_data] Downloading package omw-1.4 to /root/nltk_data...\n",
            "[nltk_data]   Package omw-1.4 is already up-to-date!\n",
            "[nltk_data] Downloading package punkt to /root/nltk_data...\n",
            "[nltk_data]   Package punkt is already up-to-date!\n"
          ]
        },
        {
          "output_type": "execute_result",
          "data": {
            "text/plain": [
              "True"
            ]
          },
          "metadata": {},
          "execution_count": 29
        }
      ]
    },
    {
      "cell_type": "code",
      "source": [
        "from google.colab import drive\n",
        "drive.mount('/content/drive/')"
      ],
      "metadata": {
        "colab": {
          "base_uri": "https://localhost:8080/"
        },
        "id": "qSCtE_tRygOX",
        "outputId": "db21e0b3-b2af-47d1-94e0-a59814bd3dcb"
      },
      "execution_count": 30,
      "outputs": [
        {
          "output_type": "stream",
          "name": "stdout",
          "text": [
            "Drive already mounted at /content/drive/; to attempt to forcibly remount, call drive.mount(\"/content/drive/\", force_remount=True).\n"
          ]
        }
      ]
    },
    {
      "cell_type": "markdown",
      "source": [
        "# Load Training Data"
      ],
      "metadata": {
        "id": "lESSlhWy0RUi"
      }
    },
    {
      "cell_type": "code",
      "source": [
        "Lemmatizer=WordNetLemmatizer()"
      ],
      "metadata": {
        "id": "yQ3xNCNlx3Wc"
      },
      "execution_count": 31,
      "outputs": []
    },
    {
      "cell_type": "code",
      "source": [
        "# reading content as text then path it to json.load\n",
        "intents=json.loads(open('/content/drive/MyDrive/Chatbot/intents.json').read())"
      ],
      "metadata": {
        "id": "5CZWR19xyJEs"
      },
      "execution_count": 32,
      "outputs": []
    },
    {
      "cell_type": "code",
      "source": [
        "words=[]\n",
        "classes=[]\n",
        "documents=[]\n",
        "ignore_letters=['?','!','.',',']"
      ],
      "metadata": {
        "id": "EGaNrQo9zLtj"
      },
      "execution_count": 33,
      "outputs": []
    },
    {
      "cell_type": "code",
      "source": [
        "for intent in intents['intents']:\n",
        "  for pattern in intent['patterns']:\n",
        "    word_list =nltk.word_tokenize(pattern)\n",
        "    words.extend(word_list)\n",
        "    documents.append((word_list,intent['tag']))\n",
        "    if intent['tag'] not in classes:\n",
        "      classes.append(intent['tag'])\n"
      ],
      "metadata": {
        "id": "wlcK5tgCzbVM"
      },
      "execution_count": 34,
      "outputs": []
    },
    {
      "cell_type": "markdown",
      "source": [
        "#Prepare Training Data"
      ],
      "metadata": {
        "id": "kBOZBm0I4u0y"
      }
    },
    {
      "cell_type": "code",
      "source": [
        "words=[Lemmatizer.lemmatize(word.lower()) for word in words if word not in ignore_letters]\n",
        "words=sorted(set(words))"
      ],
      "metadata": {
        "id": "BItSbGWF4urn"
      },
      "execution_count": 35,
      "outputs": []
    },
    {
      "cell_type": "code",
      "source": [
        "clasees=sorted(set(classes))"
      ],
      "metadata": {
        "id": "bIxEmamUBcy4"
      },
      "execution_count": 36,
      "outputs": []
    },
    {
      "cell_type": "code",
      "source": [
        "pickle.dump(words,open('words.pk1','wb'))\n",
        "pickle.dump(classes,open('classes.pk1','wb'))"
      ],
      "metadata": {
        "id": "rw_aHrSZBnLY"
      },
      "execution_count": 37,
      "outputs": []
    },
    {
      "cell_type": "code",
      "source": [
        "trainning=[]\n",
        "output_empty=[0]*len(classes)"
      ],
      "metadata": {
        "id": "23rLd61qB1KB"
      },
      "execution_count": 38,
      "outputs": []
    },
    {
      "cell_type": "code",
      "source": [
        "for doc in documents:\n",
        "  bag=[]\n",
        "  word_patterns=doc[0]\n",
        "  word_patterns=[Lemmatizer.lemmatize(word.lower()) for word in word_patterns]\n",
        "  for word in words:\n",
        "    bag.append(1) if word in word_patterns else bag.append(0)\n",
        "\n",
        "  output_row = list(output_empty)\n",
        "  output_row[classes.index(doc[1])] = 1\n",
        "  trainning.append([bag, output_row])\n",
        "\n"
      ],
      "metadata": {
        "id": "GXEYTMxbCFsc"
      },
      "execution_count": 39,
      "outputs": []
    },
    {
      "cell_type": "code",
      "source": [
        "random.shuffle(trainning)\n",
        "trainning=np.array(trainning)"
      ],
      "metadata": {
        "colab": {
          "base_uri": "https://localhost:8080/"
        },
        "id": "aJ-euyckEpMs",
        "outputId": "b119c4de-4c8d-455d-f616-531fe327f509"
      },
      "execution_count": 40,
      "outputs": [
        {
          "output_type": "stream",
          "name": "stderr",
          "text": [
            "/usr/local/lib/python3.7/dist-packages/ipykernel_launcher.py:2: VisibleDeprecationWarning: Creating an ndarray from ragged nested sequences (which is a list-or-tuple of lists-or-tuples-or ndarrays with different lengths or shapes) is deprecated. If you meant to do this, you must specify 'dtype=object' when creating the ndarray.\n",
            "  \n"
          ]
        }
      ]
    },
    {
      "cell_type": "code",
      "source": [
        "train_x=list(trainning[:,0])\n",
        "train_y=list(trainning[:,1])"
      ],
      "metadata": {
        "id": "3Z-vMurZEpIT"
      },
      "execution_count": 41,
      "outputs": []
    },
    {
      "cell_type": "markdown",
      "source": [
        "# Building Model"
      ],
      "metadata": {
        "id": "BmwtPTxGPug5"
      }
    },
    {
      "cell_type": "code",
      "source": [
        "model=Sequential()\n",
        "model.add(Dense(128,input_shape=(len(train_x[0],),),activation='relu'))\n",
        "model.add(Dropout(0.5))\n",
        "model.add(Dense(64,activation='relu'))\n",
        "model.add(Dropout(0.5))\n",
        "model.add(Dense(len(train_y[0]),activation='softmax'))\n",
        "\n",
        "model.summary()\n"
      ],
      "metadata": {
        "id": "xJiCGHQ1KAyq",
        "colab": {
          "base_uri": "https://localhost:8080/"
        },
        "outputId": "bd6848f5-02a9-45a5-c30d-e1a6dd55c6f8"
      },
      "execution_count": 42,
      "outputs": [
        {
          "output_type": "stream",
          "name": "stdout",
          "text": [
            "Model: \"sequential_1\"\n",
            "_________________________________________________________________\n",
            " Layer (type)                Output Shape              Param #   \n",
            "=================================================================\n",
            " dense_3 (Dense)             (None, 128)               31232     \n",
            "                                                                 \n",
            " dropout_2 (Dropout)         (None, 128)               0         \n",
            "                                                                 \n",
            " dense_4 (Dense)             (None, 64)                8256      \n",
            "                                                                 \n",
            " dropout_3 (Dropout)         (None, 64)                0         \n",
            "                                                                 \n",
            " dense_5 (Dense)             (None, 44)                2860      \n",
            "                                                                 \n",
            "=================================================================\n",
            "Total params: 42,348\n",
            "Trainable params: 42,348\n",
            "Non-trainable params: 0\n",
            "_________________________________________________________________\n"
          ]
        }
      ]
    },
    {
      "cell_type": "code",
      "source": [
        "sgd=SGD(lr=0.01,decay=1e-6,momentum=0.9,nesterov=True)\n",
        "model.compile(loss='categorical_crossentropy',optimizer=sgd, metrics=[\"accuracy\"])"
      ],
      "metadata": {
        "id": "kYTmtu4bLzLh",
        "colab": {
          "base_uri": "https://localhost:8080/"
        },
        "outputId": "13deab72-c97e-48ae-cf90-c3e2660757ee"
      },
      "execution_count": 43,
      "outputs": [
        {
          "output_type": "stream",
          "name": "stderr",
          "text": [
            "/usr/local/lib/python3.7/dist-packages/keras/optimizers/optimizer_v2/gradient_descent.py:108: UserWarning: The `lr` argument is deprecated, use `learning_rate` instead.\n",
            "  super(SGD, self).__init__(name, **kwargs)\n"
          ]
        }
      ]
    },
    {
      "cell_type": "code",
      "source": [
        "hist=model.fit(np.array(train_x),np.array(train_y),epochs=200,batch_size=5,verbose=1)\n",
        "model.save('ChatBot_model.hs',hist)\n",
        "print('done')"
      ],
      "metadata": {
        "colab": {
          "base_uri": "https://localhost:8080/"
        },
        "id": "Y2MFXPn5NkSA",
        "outputId": "14a0d67d-3b66-4a72-8213-88aef64fb6bf"
      },
      "execution_count": 44,
      "outputs": [
        {
          "output_type": "stream",
          "name": "stdout",
          "text": [
            "Epoch 1/200\n",
            "26/26 [==============================] - 1s 3ms/step - loss: 3.8079 - accuracy: 0.0312\n",
            "Epoch 2/200\n",
            "26/26 [==============================] - 0s 3ms/step - loss: 3.7409 - accuracy: 0.0625\n",
            "Epoch 3/200\n",
            "26/26 [==============================] - 0s 3ms/step - loss: 3.6839 - accuracy: 0.0781\n",
            "Epoch 4/200\n",
            "26/26 [==============================] - 0s 3ms/step - loss: 3.6074 - accuracy: 0.0703\n",
            "Epoch 5/200\n",
            "26/26 [==============================] - 0s 3ms/step - loss: 3.5375 - accuracy: 0.0781\n",
            "Epoch 6/200\n",
            "26/26 [==============================] - 0s 2ms/step - loss: 3.4600 - accuracy: 0.0781\n",
            "Epoch 7/200\n",
            "26/26 [==============================] - 0s 2ms/step - loss: 3.3616 - accuracy: 0.1016\n",
            "Epoch 8/200\n",
            "26/26 [==============================] - 0s 4ms/step - loss: 3.2656 - accuracy: 0.1406\n",
            "Epoch 9/200\n",
            "26/26 [==============================] - 0s 4ms/step - loss: 3.0346 - accuracy: 0.2812\n",
            "Epoch 10/200\n",
            "26/26 [==============================] - 0s 7ms/step - loss: 3.0590 - accuracy: 0.2266\n",
            "Epoch 11/200\n",
            "26/26 [==============================] - 0s 3ms/step - loss: 2.8480 - accuracy: 0.2969\n",
            "Epoch 12/200\n",
            "26/26 [==============================] - 0s 3ms/step - loss: 2.8289 - accuracy: 0.2734\n",
            "Epoch 13/200\n",
            "26/26 [==============================] - 0s 4ms/step - loss: 2.5424 - accuracy: 0.3516\n",
            "Epoch 14/200\n",
            "26/26 [==============================] - 0s 3ms/step - loss: 2.5608 - accuracy: 0.3359\n",
            "Epoch 15/200\n",
            "26/26 [==============================] - 0s 2ms/step - loss: 2.3728 - accuracy: 0.4062\n",
            "Epoch 16/200\n",
            "26/26 [==============================] - 0s 2ms/step - loss: 2.2591 - accuracy: 0.3906\n",
            "Epoch 17/200\n",
            "26/26 [==============================] - 0s 2ms/step - loss: 2.1455 - accuracy: 0.3828\n",
            "Epoch 18/200\n",
            "26/26 [==============================] - 0s 3ms/step - loss: 1.9666 - accuracy: 0.5078\n",
            "Epoch 19/200\n",
            "26/26 [==============================] - 0s 2ms/step - loss: 1.8764 - accuracy: 0.4688\n",
            "Epoch 20/200\n",
            "26/26 [==============================] - 0s 4ms/step - loss: 1.5902 - accuracy: 0.5781\n",
            "Epoch 21/200\n",
            "26/26 [==============================] - 0s 4ms/step - loss: 1.7386 - accuracy: 0.4844\n",
            "Epoch 22/200\n",
            "26/26 [==============================] - 0s 3ms/step - loss: 1.5706 - accuracy: 0.5859\n",
            "Epoch 23/200\n",
            "26/26 [==============================] - 0s 2ms/step - loss: 1.4476 - accuracy: 0.6172\n",
            "Epoch 24/200\n",
            "26/26 [==============================] - 0s 2ms/step - loss: 1.4267 - accuracy: 0.5547\n",
            "Epoch 25/200\n",
            "26/26 [==============================] - 0s 2ms/step - loss: 1.5632 - accuracy: 0.5547\n",
            "Epoch 26/200\n",
            "26/26 [==============================] - 0s 2ms/step - loss: 1.1590 - accuracy: 0.7031\n",
            "Epoch 27/200\n",
            "26/26 [==============================] - 0s 2ms/step - loss: 1.1643 - accuracy: 0.6484\n",
            "Epoch 28/200\n",
            "26/26 [==============================] - 0s 2ms/step - loss: 1.1105 - accuracy: 0.6719\n",
            "Epoch 29/200\n",
            "26/26 [==============================] - 0s 2ms/step - loss: 1.0384 - accuracy: 0.7031\n",
            "Epoch 30/200\n",
            "26/26 [==============================] - 0s 2ms/step - loss: 1.1256 - accuracy: 0.6250\n",
            "Epoch 31/200\n",
            "26/26 [==============================] - 0s 2ms/step - loss: 0.9937 - accuracy: 0.7109\n",
            "Epoch 32/200\n",
            "26/26 [==============================] - 0s 2ms/step - loss: 0.9311 - accuracy: 0.7344\n",
            "Epoch 33/200\n",
            "26/26 [==============================] - 0s 2ms/step - loss: 0.9796 - accuracy: 0.6875\n",
            "Epoch 34/200\n",
            "26/26 [==============================] - 0s 2ms/step - loss: 0.9270 - accuracy: 0.6953\n",
            "Epoch 35/200\n",
            "26/26 [==============================] - 0s 2ms/step - loss: 0.9198 - accuracy: 0.7734\n",
            "Epoch 36/200\n",
            "26/26 [==============================] - 0s 2ms/step - loss: 0.8075 - accuracy: 0.7734\n",
            "Epoch 37/200\n",
            "26/26 [==============================] - 0s 2ms/step - loss: 0.6679 - accuracy: 0.8125\n",
            "Epoch 38/200\n",
            "26/26 [==============================] - 0s 2ms/step - loss: 0.7775 - accuracy: 0.7422\n",
            "Epoch 39/200\n",
            "26/26 [==============================] - 0s 2ms/step - loss: 0.6995 - accuracy: 0.8203\n",
            "Epoch 40/200\n",
            "26/26 [==============================] - 0s 2ms/step - loss: 0.8625 - accuracy: 0.7500\n",
            "Epoch 41/200\n",
            "26/26 [==============================] - 0s 2ms/step - loss: 0.6564 - accuracy: 0.8203\n",
            "Epoch 42/200\n",
            "26/26 [==============================] - 0s 2ms/step - loss: 0.5899 - accuracy: 0.8438\n",
            "Epoch 43/200\n",
            "26/26 [==============================] - 0s 2ms/step - loss: 0.7831 - accuracy: 0.7656\n",
            "Epoch 44/200\n",
            "26/26 [==============================] - 0s 2ms/step - loss: 0.5617 - accuracy: 0.8359\n",
            "Epoch 45/200\n",
            "26/26 [==============================] - 0s 2ms/step - loss: 0.6547 - accuracy: 0.7969\n",
            "Epoch 46/200\n",
            "26/26 [==============================] - 0s 2ms/step - loss: 0.7532 - accuracy: 0.7734\n",
            "Epoch 47/200\n",
            "26/26 [==============================] - 0s 2ms/step - loss: 0.5798 - accuracy: 0.8438\n",
            "Epoch 48/200\n",
            "26/26 [==============================] - 0s 2ms/step - loss: 0.5540 - accuracy: 0.8359\n",
            "Epoch 49/200\n",
            "26/26 [==============================] - 0s 2ms/step - loss: 0.5204 - accuracy: 0.8516\n",
            "Epoch 50/200\n",
            "26/26 [==============================] - 0s 2ms/step - loss: 0.6104 - accuracy: 0.8125\n",
            "Epoch 51/200\n",
            "26/26 [==============================] - 0s 2ms/step - loss: 0.5991 - accuracy: 0.8125\n",
            "Epoch 52/200\n",
            "26/26 [==============================] - 0s 2ms/step - loss: 0.4533 - accuracy: 0.8594\n",
            "Epoch 53/200\n",
            "26/26 [==============================] - 0s 2ms/step - loss: 0.6133 - accuracy: 0.8047\n",
            "Epoch 54/200\n",
            "26/26 [==============================] - 0s 2ms/step - loss: 0.4983 - accuracy: 0.8516\n",
            "Epoch 55/200\n",
            "26/26 [==============================] - 0s 2ms/step - loss: 0.5396 - accuracy: 0.8125\n",
            "Epoch 56/200\n",
            "26/26 [==============================] - 0s 2ms/step - loss: 0.8016 - accuracy: 0.7734\n",
            "Epoch 57/200\n",
            "26/26 [==============================] - 0s 2ms/step - loss: 0.5926 - accuracy: 0.8125\n",
            "Epoch 58/200\n",
            "26/26 [==============================] - 0s 2ms/step - loss: 0.6225 - accuracy: 0.8281\n",
            "Epoch 59/200\n",
            "26/26 [==============================] - 0s 2ms/step - loss: 0.5079 - accuracy: 0.8672\n",
            "Epoch 60/200\n",
            "26/26 [==============================] - 0s 2ms/step - loss: 0.4541 - accuracy: 0.8750\n",
            "Epoch 61/200\n",
            "26/26 [==============================] - 0s 2ms/step - loss: 0.5009 - accuracy: 0.8594\n",
            "Epoch 62/200\n",
            "26/26 [==============================] - 0s 2ms/step - loss: 0.4719 - accuracy: 0.8359\n",
            "Epoch 63/200\n",
            "26/26 [==============================] - 0s 2ms/step - loss: 0.3865 - accuracy: 0.8828\n",
            "Epoch 64/200\n",
            "26/26 [==============================] - 0s 2ms/step - loss: 0.4406 - accuracy: 0.8750\n",
            "Epoch 65/200\n",
            "26/26 [==============================] - 0s 2ms/step - loss: 0.4469 - accuracy: 0.8750\n",
            "Epoch 66/200\n",
            "26/26 [==============================] - 0s 2ms/step - loss: 0.4341 - accuracy: 0.8438\n",
            "Epoch 67/200\n",
            "26/26 [==============================] - 0s 2ms/step - loss: 0.2864 - accuracy: 0.9297\n",
            "Epoch 68/200\n",
            "26/26 [==============================] - 0s 2ms/step - loss: 0.5370 - accuracy: 0.8203\n",
            "Epoch 69/200\n",
            "26/26 [==============================] - 0s 2ms/step - loss: 0.3811 - accuracy: 0.9062\n",
            "Epoch 70/200\n",
            "26/26 [==============================] - 0s 2ms/step - loss: 0.3492 - accuracy: 0.8906\n",
            "Epoch 71/200\n",
            "26/26 [==============================] - 0s 2ms/step - loss: 0.3316 - accuracy: 0.9062\n",
            "Epoch 72/200\n",
            "26/26 [==============================] - 0s 2ms/step - loss: 0.4576 - accuracy: 0.8203\n",
            "Epoch 73/200\n",
            "26/26 [==============================] - 0s 2ms/step - loss: 0.3694 - accuracy: 0.8906\n",
            "Epoch 74/200\n",
            "26/26 [==============================] - 0s 2ms/step - loss: 0.4153 - accuracy: 0.8672\n",
            "Epoch 75/200\n",
            "26/26 [==============================] - 0s 2ms/step - loss: 0.3955 - accuracy: 0.8516\n",
            "Epoch 76/200\n",
            "26/26 [==============================] - 0s 2ms/step - loss: 0.4555 - accuracy: 0.8516\n",
            "Epoch 77/200\n",
            "26/26 [==============================] - 0s 2ms/step - loss: 0.3924 - accuracy: 0.8516\n",
            "Epoch 78/200\n",
            "26/26 [==============================] - 0s 2ms/step - loss: 0.3982 - accuracy: 0.8828\n",
            "Epoch 79/200\n",
            "26/26 [==============================] - 0s 2ms/step - loss: 0.2607 - accuracy: 0.9141\n",
            "Epoch 80/200\n",
            "26/26 [==============================] - 0s 2ms/step - loss: 0.3633 - accuracy: 0.8828\n",
            "Epoch 81/200\n",
            "26/26 [==============================] - 0s 2ms/step - loss: 0.4287 - accuracy: 0.8750\n",
            "Epoch 82/200\n",
            "26/26 [==============================] - 0s 2ms/step - loss: 0.3179 - accuracy: 0.8828\n",
            "Epoch 83/200\n",
            "26/26 [==============================] - 0s 2ms/step - loss: 0.4753 - accuracy: 0.8281\n",
            "Epoch 84/200\n",
            "26/26 [==============================] - 0s 2ms/step - loss: 0.3464 - accuracy: 0.9062\n",
            "Epoch 85/200\n",
            "26/26 [==============================] - 0s 2ms/step - loss: 0.3039 - accuracy: 0.8906\n",
            "Epoch 86/200\n",
            "26/26 [==============================] - 0s 2ms/step - loss: 0.4217 - accuracy: 0.8672\n",
            "Epoch 87/200\n",
            "26/26 [==============================] - 0s 2ms/step - loss: 0.3861 - accuracy: 0.8672\n",
            "Epoch 88/200\n",
            "26/26 [==============================] - 0s 2ms/step - loss: 0.2933 - accuracy: 0.8984\n",
            "Epoch 89/200\n",
            "26/26 [==============================] - 0s 2ms/step - loss: 0.3012 - accuracy: 0.8906\n",
            "Epoch 90/200\n",
            "26/26 [==============================] - 0s 2ms/step - loss: 0.2793 - accuracy: 0.9219\n",
            "Epoch 91/200\n",
            "26/26 [==============================] - 0s 2ms/step - loss: 0.3313 - accuracy: 0.8828\n",
            "Epoch 92/200\n",
            "26/26 [==============================] - 0s 2ms/step - loss: 0.3163 - accuracy: 0.9141\n",
            "Epoch 93/200\n",
            "26/26 [==============================] - 0s 2ms/step - loss: 0.2538 - accuracy: 0.9062\n",
            "Epoch 94/200\n",
            "26/26 [==============================] - 0s 2ms/step - loss: 0.3025 - accuracy: 0.8906\n",
            "Epoch 95/200\n",
            "26/26 [==============================] - 0s 2ms/step - loss: 0.3812 - accuracy: 0.8750\n",
            "Epoch 96/200\n",
            "26/26 [==============================] - 0s 2ms/step - loss: 0.3068 - accuracy: 0.8984\n",
            "Epoch 97/200\n",
            "26/26 [==============================] - 0s 2ms/step - loss: 0.2849 - accuracy: 0.9062\n",
            "Epoch 98/200\n",
            "26/26 [==============================] - 0s 2ms/step - loss: 0.3079 - accuracy: 0.8984\n",
            "Epoch 99/200\n",
            "26/26 [==============================] - 0s 2ms/step - loss: 0.3315 - accuracy: 0.9141\n",
            "Epoch 100/200\n",
            "26/26 [==============================] - 0s 2ms/step - loss: 0.3659 - accuracy: 0.8906\n",
            "Epoch 101/200\n",
            "26/26 [==============================] - 0s 2ms/step - loss: 0.3019 - accuracy: 0.9062\n",
            "Epoch 102/200\n",
            "26/26 [==============================] - 0s 2ms/step - loss: 0.3028 - accuracy: 0.9062\n",
            "Epoch 103/200\n",
            "26/26 [==============================] - 0s 2ms/step - loss: 0.3077 - accuracy: 0.9062\n",
            "Epoch 104/200\n",
            "26/26 [==============================] - 0s 2ms/step - loss: 0.2648 - accuracy: 0.9219\n",
            "Epoch 105/200\n",
            "26/26 [==============================] - 0s 2ms/step - loss: 0.3081 - accuracy: 0.9219\n",
            "Epoch 106/200\n",
            "26/26 [==============================] - 0s 2ms/step - loss: 0.1990 - accuracy: 0.9297\n",
            "Epoch 107/200\n",
            "26/26 [==============================] - 0s 2ms/step - loss: 0.2871 - accuracy: 0.9141\n",
            "Epoch 108/200\n",
            "26/26 [==============================] - 0s 2ms/step - loss: 0.2666 - accuracy: 0.9219\n",
            "Epoch 109/200\n",
            "26/26 [==============================] - 0s 2ms/step - loss: 0.3325 - accuracy: 0.9062\n",
            "Epoch 110/200\n",
            "26/26 [==============================] - 0s 2ms/step - loss: 0.2308 - accuracy: 0.9219\n",
            "Epoch 111/200\n",
            "26/26 [==============================] - 0s 2ms/step - loss: 0.2857 - accuracy: 0.8984\n",
            "Epoch 112/200\n",
            "26/26 [==============================] - 0s 2ms/step - loss: 0.2826 - accuracy: 0.9219\n",
            "Epoch 113/200\n",
            "26/26 [==============================] - 0s 2ms/step - loss: 0.2053 - accuracy: 0.9297\n",
            "Epoch 114/200\n",
            "26/26 [==============================] - 0s 2ms/step - loss: 0.3180 - accuracy: 0.8750\n",
            "Epoch 115/200\n",
            "26/26 [==============================] - 0s 2ms/step - loss: 0.4087 - accuracy: 0.8438\n",
            "Epoch 116/200\n",
            "26/26 [==============================] - 0s 2ms/step - loss: 0.2366 - accuracy: 0.9375\n",
            "Epoch 117/200\n",
            "26/26 [==============================] - 0s 2ms/step - loss: 0.2532 - accuracy: 0.8984\n",
            "Epoch 118/200\n",
            "26/26 [==============================] - 0s 2ms/step - loss: 0.4128 - accuracy: 0.8672\n",
            "Epoch 119/200\n",
            "26/26 [==============================] - 0s 2ms/step - loss: 0.3183 - accuracy: 0.9141\n",
            "Epoch 120/200\n",
            "26/26 [==============================] - 0s 2ms/step - loss: 0.2562 - accuracy: 0.9141\n",
            "Epoch 121/200\n",
            "26/26 [==============================] - 0s 2ms/step - loss: 0.2433 - accuracy: 0.9062\n",
            "Epoch 122/200\n",
            "26/26 [==============================] - 0s 2ms/step - loss: 0.2862 - accuracy: 0.9219\n",
            "Epoch 123/200\n",
            "26/26 [==============================] - 0s 2ms/step - loss: 0.1647 - accuracy: 0.9453\n",
            "Epoch 124/200\n",
            "26/26 [==============================] - 0s 2ms/step - loss: 0.2140 - accuracy: 0.8984\n",
            "Epoch 125/200\n",
            "26/26 [==============================] - 0s 2ms/step - loss: 0.1780 - accuracy: 0.9531\n",
            "Epoch 126/200\n",
            "26/26 [==============================] - 0s 2ms/step - loss: 0.2751 - accuracy: 0.9297\n",
            "Epoch 127/200\n",
            "26/26 [==============================] - 0s 2ms/step - loss: 0.2212 - accuracy: 0.9141\n",
            "Epoch 128/200\n",
            "26/26 [==============================] - 0s 2ms/step - loss: 0.1081 - accuracy: 0.9688\n",
            "Epoch 129/200\n",
            "26/26 [==============================] - 0s 2ms/step - loss: 0.2664 - accuracy: 0.8594\n",
            "Epoch 130/200\n",
            "26/26 [==============================] - 0s 2ms/step - loss: 0.3254 - accuracy: 0.8594\n",
            "Epoch 131/200\n",
            "26/26 [==============================] - 0s 2ms/step - loss: 0.2636 - accuracy: 0.8984\n",
            "Epoch 132/200\n",
            "26/26 [==============================] - 0s 2ms/step - loss: 0.1855 - accuracy: 0.9141\n",
            "Epoch 133/200\n",
            "26/26 [==============================] - 0s 2ms/step - loss: 0.2564 - accuracy: 0.9141\n",
            "Epoch 134/200\n",
            "26/26 [==============================] - 0s 2ms/step - loss: 0.2563 - accuracy: 0.8906\n",
            "Epoch 135/200\n",
            "26/26 [==============================] - 0s 2ms/step - loss: 0.2418 - accuracy: 0.9141\n",
            "Epoch 136/200\n",
            "26/26 [==============================] - 0s 2ms/step - loss: 0.2601 - accuracy: 0.9062\n",
            "Epoch 137/200\n",
            "26/26 [==============================] - 0s 2ms/step - loss: 0.1819 - accuracy: 0.9375\n",
            "Epoch 138/200\n",
            "26/26 [==============================] - 0s 2ms/step - loss: 0.1966 - accuracy: 0.9375\n",
            "Epoch 139/200\n",
            "26/26 [==============================] - 0s 2ms/step - loss: 0.2167 - accuracy: 0.9297\n",
            "Epoch 140/200\n",
            "26/26 [==============================] - 0s 2ms/step - loss: 0.1733 - accuracy: 0.9375\n",
            "Epoch 141/200\n",
            "26/26 [==============================] - 0s 2ms/step - loss: 0.2927 - accuracy: 0.8906\n",
            "Epoch 142/200\n",
            "26/26 [==============================] - 0s 2ms/step - loss: 0.2141 - accuracy: 0.9141\n",
            "Epoch 143/200\n",
            "26/26 [==============================] - 0s 2ms/step - loss: 0.3036 - accuracy: 0.8828\n",
            "Epoch 144/200\n",
            "26/26 [==============================] - 0s 2ms/step - loss: 0.2204 - accuracy: 0.9453\n",
            "Epoch 145/200\n",
            "26/26 [==============================] - 0s 2ms/step - loss: 0.3287 - accuracy: 0.9219\n",
            "Epoch 146/200\n",
            "26/26 [==============================] - 0s 2ms/step - loss: 0.2069 - accuracy: 0.9375\n",
            "Epoch 147/200\n",
            "26/26 [==============================] - 0s 2ms/step - loss: 0.3418 - accuracy: 0.8906\n",
            "Epoch 148/200\n",
            "26/26 [==============================] - 0s 2ms/step - loss: 0.3311 - accuracy: 0.8984\n",
            "Epoch 149/200\n",
            "26/26 [==============================] - 0s 2ms/step - loss: 0.1883 - accuracy: 0.9453\n",
            "Epoch 150/200\n",
            "26/26 [==============================] - 0s 2ms/step - loss: 0.2187 - accuracy: 0.9141\n",
            "Epoch 151/200\n",
            "26/26 [==============================] - 0s 2ms/step - loss: 0.2187 - accuracy: 0.8906\n",
            "Epoch 152/200\n",
            "26/26 [==============================] - 0s 2ms/step - loss: 0.2710 - accuracy: 0.8828\n",
            "Epoch 153/200\n",
            "26/26 [==============================] - 0s 2ms/step - loss: 0.1806 - accuracy: 0.9531\n",
            "Epoch 154/200\n",
            "26/26 [==============================] - 0s 2ms/step - loss: 0.1988 - accuracy: 0.9375\n",
            "Epoch 155/200\n",
            "26/26 [==============================] - 0s 2ms/step - loss: 0.2492 - accuracy: 0.9141\n",
            "Epoch 156/200\n",
            "26/26 [==============================] - 0s 2ms/step - loss: 0.2223 - accuracy: 0.9141\n",
            "Epoch 157/200\n",
            "26/26 [==============================] - 0s 2ms/step - loss: 0.2218 - accuracy: 0.9297\n",
            "Epoch 158/200\n",
            "26/26 [==============================] - 0s 2ms/step - loss: 0.2587 - accuracy: 0.9062\n",
            "Epoch 159/200\n",
            "26/26 [==============================] - 0s 2ms/step - loss: 0.2135 - accuracy: 0.9453\n",
            "Epoch 160/200\n",
            "26/26 [==============================] - 0s 2ms/step - loss: 0.2341 - accuracy: 0.9219\n",
            "Epoch 161/200\n",
            "26/26 [==============================] - 0s 2ms/step - loss: 0.2213 - accuracy: 0.9219\n",
            "Epoch 162/200\n",
            "26/26 [==============================] - 0s 2ms/step - loss: 0.1630 - accuracy: 0.9141\n",
            "Epoch 163/200\n",
            "26/26 [==============================] - 0s 2ms/step - loss: 0.2718 - accuracy: 0.9219\n",
            "Epoch 164/200\n",
            "26/26 [==============================] - 0s 2ms/step - loss: 0.2335 - accuracy: 0.9141\n",
            "Epoch 165/200\n",
            "26/26 [==============================] - 0s 2ms/step - loss: 0.2211 - accuracy: 0.9375\n",
            "Epoch 166/200\n",
            "26/26 [==============================] - 0s 2ms/step - loss: 0.1870 - accuracy: 0.9141\n",
            "Epoch 167/200\n",
            "26/26 [==============================] - 0s 2ms/step - loss: 0.2806 - accuracy: 0.9062\n",
            "Epoch 168/200\n",
            "26/26 [==============================] - 0s 2ms/step - loss: 0.2465 - accuracy: 0.9219\n",
            "Epoch 169/200\n",
            "26/26 [==============================] - 0s 2ms/step - loss: 0.2236 - accuracy: 0.9141\n",
            "Epoch 170/200\n",
            "26/26 [==============================] - 0s 2ms/step - loss: 0.1913 - accuracy: 0.9297\n",
            "Epoch 171/200\n",
            "26/26 [==============================] - 0s 2ms/step - loss: 0.1669 - accuracy: 0.9219\n",
            "Epoch 172/200\n",
            "26/26 [==============================] - 0s 2ms/step - loss: 0.3162 - accuracy: 0.8672\n",
            "Epoch 173/200\n",
            "26/26 [==============================] - 0s 2ms/step - loss: 0.2460 - accuracy: 0.8906\n",
            "Epoch 174/200\n",
            "26/26 [==============================] - 0s 2ms/step - loss: 0.2139 - accuracy: 0.9297\n",
            "Epoch 175/200\n",
            "26/26 [==============================] - 0s 2ms/step - loss: 0.1664 - accuracy: 0.9375\n",
            "Epoch 176/200\n",
            "26/26 [==============================] - 0s 2ms/step - loss: 0.2288 - accuracy: 0.9141\n",
            "Epoch 177/200\n",
            "26/26 [==============================] - 0s 2ms/step - loss: 0.2315 - accuracy: 0.9219\n",
            "Epoch 178/200\n",
            "26/26 [==============================] - 0s 2ms/step - loss: 0.1374 - accuracy: 0.9766\n",
            "Epoch 179/200\n",
            "26/26 [==============================] - 0s 2ms/step - loss: 0.1367 - accuracy: 0.9844\n",
            "Epoch 180/200\n",
            "26/26 [==============================] - 0s 2ms/step - loss: 0.1858 - accuracy: 0.9297\n",
            "Epoch 181/200\n",
            "26/26 [==============================] - 0s 2ms/step - loss: 0.1782 - accuracy: 0.9375\n",
            "Epoch 182/200\n",
            "26/26 [==============================] - 0s 2ms/step - loss: 0.1463 - accuracy: 0.9531\n",
            "Epoch 183/200\n",
            "26/26 [==============================] - 0s 2ms/step - loss: 0.2308 - accuracy: 0.9062\n",
            "Epoch 184/200\n",
            "26/26 [==============================] - 0s 2ms/step - loss: 0.2209 - accuracy: 0.9219\n",
            "Epoch 185/200\n",
            "26/26 [==============================] - 0s 2ms/step - loss: 0.1502 - accuracy: 0.9375\n",
            "Epoch 186/200\n",
            "26/26 [==============================] - 0s 2ms/step - loss: 0.2040 - accuracy: 0.8984\n",
            "Epoch 187/200\n",
            "26/26 [==============================] - 0s 2ms/step - loss: 0.1726 - accuracy: 0.9453\n",
            "Epoch 188/200\n",
            "26/26 [==============================] - 0s 2ms/step - loss: 0.1883 - accuracy: 0.9297\n",
            "Epoch 189/200\n",
            "26/26 [==============================] - 0s 2ms/step - loss: 0.2011 - accuracy: 0.9219\n",
            "Epoch 190/200\n",
            "26/26 [==============================] - 0s 2ms/step - loss: 0.2455 - accuracy: 0.8984\n",
            "Epoch 191/200\n",
            "26/26 [==============================] - 0s 2ms/step - loss: 0.1032 - accuracy: 0.9609\n",
            "Epoch 192/200\n",
            "26/26 [==============================] - 0s 2ms/step - loss: 0.2081 - accuracy: 0.9531\n",
            "Epoch 193/200\n",
            "26/26 [==============================] - 0s 2ms/step - loss: 0.1675 - accuracy: 0.9219\n",
            "Epoch 194/200\n",
            "26/26 [==============================] - 0s 2ms/step - loss: 0.1100 - accuracy: 0.9531\n",
            "Epoch 195/200\n",
            "26/26 [==============================] - 0s 2ms/step - loss: 0.1128 - accuracy: 0.9609\n",
            "Epoch 196/200\n",
            "26/26 [==============================] - 0s 2ms/step - loss: 0.2193 - accuracy: 0.9453\n",
            "Epoch 197/200\n",
            "26/26 [==============================] - 0s 2ms/step - loss: 0.1107 - accuracy: 0.9531\n",
            "Epoch 198/200\n",
            "26/26 [==============================] - 0s 2ms/step - loss: 0.3059 - accuracy: 0.8828\n",
            "Epoch 199/200\n",
            "26/26 [==============================] - 0s 2ms/step - loss: 0.1923 - accuracy: 0.9453\n",
            "Epoch 200/200\n",
            "26/26 [==============================] - 0s 2ms/step - loss: 0.1123 - accuracy: 0.9609\n",
            "done\n"
          ]
        }
      ]
    },
    {
      "cell_type": "markdown",
      "source": [
        "# building ChatBot"
      ],
      "metadata": {
        "id": "rSnoGHlJPonA"
      }
    },
    {
      "cell_type": "code",
      "source": [
        "res=model.predict(np.array(train_x))[0]\n",
        "results=[[i,r] for i,r in enumerate(res) if r> 0.25]\n",
        "results.sort(key=lambda x: x[1] ,reverse=True)\n",
        "results_list=[]\n",
        "for r in results:\n",
        "  results_list.append({'intent':classes[r[0]],'probability':str(r[1])})"
      ],
      "metadata": {
        "id": "mwmtvO_8ESwh",
        "colab": {
          "base_uri": "https://localhost:8080/"
        },
        "outputId": "4d79ee56-24f8-47d5-e7b3-6efae4082a47"
      },
      "execution_count": 45,
      "outputs": [
        {
          "output_type": "stream",
          "name": "stdout",
          "text": [
            "4/4 [==============================] - 0s 3ms/step\n"
          ]
        }
      ]
    },
    {
      "cell_type": "code",
      "source": [
        "def clean_up_sentance(sentance):\n",
        "  sentance_words=nltk.word_tokenize(sentance)\n",
        "  wnl = WordNetLemmatizer()\n",
        "  sentance_words=[wnl.lemmatize(word) for word in sentance_words]\n",
        "  return sentance_words\n"
      ],
      "metadata": {
        "id": "T0zeCVCoOOWR"
      },
      "execution_count": 46,
      "outputs": []
    },
    {
      "cell_type": "code",
      "source": [
        "def bag_of_words(sentance):\n",
        "  sentance_words=clean_up_sentance(sentance)\n",
        "  bag=[0]*len(words)\n",
        "  for w in sentance_words:\n",
        "    for i,word in enumerate(words):\n",
        "      if word == w:\n",
        "        bag[i]=1\n",
        "  return np.array(bag)\n",
        "\n",
        "      "
      ],
      "metadata": {
        "id": "8NcxKOJxVK4o"
      },
      "execution_count": 47,
      "outputs": []
    },
    {
      "cell_type": "code",
      "source": [
        "def predict_class(sentance):\n",
        "  \n",
        "  bow = np.array(bag_of_words(sentance))\n",
        "  res=model.predict(bow.reshape(-1,243))[0]\n",
        "  ERROR_THRESHHOLD=0.25\n",
        "  results=[[i,r] for i,r in enumerate(res) if r> ERROR_THRESHHOLD]\n",
        "  results.sort(key=lambda x: x[1] ,reverse=True)\n",
        "\n",
        "  results_list=[]\n",
        "  for r in results:\n",
        "    results_list.append({'intent':classes[r[0]],'probability':str(r[1])})\n",
        "\n",
        "  return results_list\n"
      ],
      "metadata": {
        "id": "rfXAjYjoVt3x"
      },
      "execution_count": 48,
      "outputs": []
    },
    {
      "cell_type": "code",
      "source": [
        "def get_response(intents_list, intents_json):\n",
        "  tag = intents_list[0]['intent']\n",
        "  list_of_intents= intents_json['intents']\n",
        "  for i in list_of_intents:\n",
        "    if i['tag'] ==tag:\n",
        "      result =random.choice(i['responses'])\n",
        "      break\n",
        "  return result"
      ],
      "metadata": {
        "id": "bzKM1npylH7R"
      },
      "execution_count": 49,
      "outputs": []
    },
    {
      "cell_type": "code",
      "source": [
        "print('___ the BOT is RUNNING......!___')\n",
        "while True:\n",
        "  massage=input(\"\")\n",
        "  ints=predict_class(massage)\n",
        "  res=get_response(ints,intents)\n",
        "  print(res)\n"
      ],
      "metadata": {
        "colab": {
          "base_uri": "https://localhost:8080/"
        },
        "id": "gibWgVyMl9aR",
        "outputId": "8d71d8fb-ff0e-4efe-ed07-c04d3496418f"
      },
      "execution_count": null,
      "outputs": [
        {
          "output_type": "stream",
          "name": "stdout",
          "text": [
            "___ the BOT is RUNNING......!___\n",
            "hi\n",
            "1/1 [==============================] - 0s 44ms/step\n",
            "Hello, thanks for asking\n",
            "help\n",
            "1/1 [==============================] - 0s 15ms/step\n",
            "I can guide you through Adverse management problems, order tracking, person to be contacted and Department related queries\n",
            "quit\n",
            "1/1 [==============================] - 0s 15ms/step\n",
            "...\n"
          ]
        }
      ]
    },
    {
      "cell_type": "code",
      "source": [],
      "metadata": {
        "id": "nJkEpIQNx3_G"
      },
      "execution_count": null,
      "outputs": []
    }
  ]
}